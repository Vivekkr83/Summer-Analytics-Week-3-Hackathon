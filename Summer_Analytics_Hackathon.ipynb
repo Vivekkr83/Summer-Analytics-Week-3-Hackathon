{
  "nbformat": 4,
  "nbformat_minor": 0,
  "metadata": {
    "colab": {
      "provenance": []
    },
    "kernelspec": {
      "name": "python3",
      "display_name": "Python 3"
    },
    "language_info": {
      "name": "python"
    }
  },
  "cells": [
    {
      "cell_type": "code",
      "execution_count": 1,
      "metadata": {
        "id": "k59D_EFA_L2v"
      },
      "outputs": [],
      "source": [
        "import pandas as pd\n",
        "from sklearn.model_selection import train_test_split, GridSearchCV\n",
        "from sklearn.preprocessing import OneHotEncoder, StandardScaler\n",
        "from sklearn.compose import ColumnTransformer\n",
        "from sklearn.pipeline import Pipeline\n",
        "from sklearn.ensemble import RandomForestClassifier\n",
        "from sklearn.metrics import roc_auc_score\n",
        "from sklearn.multioutput import MultiOutputClassifier"
      ]
    },
    {
      "cell_type": "markdown",
      "source": [
        "Load Data"
      ],
      "metadata": {
        "id": "YqjBfU07_Ygd"
      }
    },
    {
      "cell_type": "code",
      "source": [
        "train_features = pd.read_csv('training_set_features.csv')\n",
        "train_labels = pd.read_csv('training_set_labels.csv')\n",
        "test_features = pd.read_csv('test_set_features.csv')"
      ],
      "metadata": {
        "id": "Q9Vcfhmz_aDX"
      },
      "execution_count": null,
      "outputs": []
    },
    {
      "cell_type": "markdown",
      "source": [
        "Merge Data"
      ],
      "metadata": {
        "id": "Ap3GQiV3_chE"
      }
    },
    {
      "cell_type": "code",
      "source": [
        "data = train_features.merge(train_labels, on='respondent_id')"
      ],
      "metadata": {
        "id": "9TM0I5Li_dmU"
      },
      "execution_count": null,
      "outputs": []
    },
    {
      "cell_type": "markdown",
      "source": [
        "Identify categorical and numerical features"
      ],
      "metadata": {
        "id": "9bdvzMa3_h1x"
      }
    },
    {
      "cell_type": "code",
      "source": [
        "categorical_features = ['age_group', 'education', 'race', 'sex', 'income_poverty', 'marital_status',\n",
        "                        'rent_or_own', 'employment_status', 'hhs_geo_region', 'census_msa',\n",
        "                        'employment_industry', 'employment_occupation']\n",
        "numerical_features = [col for col in train_features.columns if col not in categorical_features + ['respondent_id']]"
      ],
      "metadata": {
        "id": "6BfE4UfY_k81"
      },
      "execution_count": null,
      "outputs": []
    },
    {
      "cell_type": "markdown",
      "source": [
        "Preprocessing the Data"
      ],
      "metadata": {
        "id": "EcdSRvor_o-o"
      }
    },
    {
      "cell_type": "code",
      "source": [
        "numerical_transformer = StandardScaler()\n",
        "categorical_transformer = OneHotEncoder(handle_unknown='ignore')"
      ],
      "metadata": {
        "id": "B2McNVHr_s6b"
      },
      "execution_count": null,
      "outputs": []
    },
    {
      "cell_type": "code",
      "source": [
        "preprocessor = ColumnTransformer(\n",
        "    transformers=[\n",
        "        ('num', numerical_transformer, numerical_features),\n",
        "        ('cat', categorical_transformer, categorical_features)])"
      ],
      "metadata": {
        "id": "U_Xj2Bza_yJa"
      },
      "execution_count": null,
      "outputs": []
    },
    {
      "cell_type": "code",
      "source": [
        "X = data.drop(columns=['respondent_id', 'xyz_vaccine', 'seasonal_vaccine'])\n",
        "y = data[['xyz_vaccine', 'seasonal_vaccine']]"
      ],
      "metadata": {
        "id": "sP5qP2iD_0O9"
      },
      "execution_count": null,
      "outputs": []
    },
    {
      "cell_type": "code",
      "source": [
        "X_train, X_valid, y_train, y_valid = train_test_split(X, y, test_size=0.2, random_state=42)"
      ],
      "metadata": {
        "id": "rOf8ycTF_3FG"
      },
      "execution_count": null,
      "outputs": []
    },
    {
      "cell_type": "code",
      "source": [
        "model = RandomForestClassifier(random_state=42)"
      ],
      "metadata": {
        "id": "YXmvHmmX_81D"
      },
      "execution_count": null,
      "outputs": []
    },
    {
      "cell_type": "code",
      "source": [
        "pipeline = Pipeline(steps=[('preprocessor', preprocessor),\n",
        "                           ('classifier', MultiOutputClassifier(model))])"
      ],
      "metadata": {
        "id": "qiyqkrf6__WX"
      },
      "execution_count": null,
      "outputs": []
    },
    {
      "cell_type": "code",
      "source": [
        "pipeline.fit(X_train, y_train"
      ],
      "metadata": {
        "id": "fyyQOihIABZ0"
      },
      "execution_count": null,
      "outputs": []
    },
    {
      "cell_type": "markdown",
      "source": [
        "Model Evaluation\n"
      ],
      "metadata": {
        "id": "oIso-DlQAC-7"
      }
    },
    {
      "cell_type": "code",
      "source": [
        "y_valid_pred_proba = pipeline.predict_proba(X_valid)"
      ],
      "metadata": {
        "id": "nLag0ybtAEji"
      },
      "execution_count": null,
      "outputs": []
    },
    {
      "cell_type": "code",
      "source": [
        "roc_auc_xyz = roc_auc_score(y_valid['xyz_vaccine'], y_valid_pred_proba[0][:, 1])\n",
        "roc_auc_seasonal = roc_auc_score(y_valid['seasonal_vaccine'], y_valid_pred_proba[1][:, 1])\n",
        "roc_auc_mean = (roc_auc_xyz + roc_auc_seasonal) / 2\n",
        "\n",
        "print(f'ROC AUC Score for xyz_vaccine: {roc_auc_xyz}')\n",
        "print(f'ROC AUC Score for seasonal_vaccine: {roc_auc_seasonal}')\n",
        "print(f'Mean ROC AUC Score: {roc_auc_mean}')"
      ],
      "metadata": {
        "id": "_dGXQafGAHJ9"
      },
      "execution_count": null,
      "outputs": []
    }
  ]
}